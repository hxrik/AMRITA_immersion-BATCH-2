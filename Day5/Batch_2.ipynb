{
  "nbformat": 4,
  "nbformat_minor": 0,
  "metadata": {
    "colab": {
      "provenance": []
    },
    "kernelspec": {
      "name": "python3",
      "display_name": "Python 3"
    },
    "language_info": {
      "name": "python"
    }
  },
  "cells": [
    {
      "cell_type": "code",
      "execution_count": 15,
      "metadata": {
        "id": "U4tQVMw6V1GM"
      },
      "outputs": [],
      "source": [
        "import pandas as pd\n",
        "import numpy as np\n",
        "from sklearn.model_selection import train_test_split\n",
        "from sklearn.preprocessing import LabelEncoder\n",
        "from sklearn.ensemble import RandomForestClassifier\n",
        "from sklearn.metrics import classification_report, confusion_matrix\n",
        "import warnings\n",
        "warnings.filterwarnings('ignore')"
      ]
    },
    {
      "cell_type": "code",
      "source": [
        "# Load the data\n",
        "df = pd.read_csv('/content/Dataset_final2.csv')  # Replace with your file name\n",
        "print(\"Data loaded successfully\")\n",
        "print(\"Shape of dataset:\", df.shape)"
      ],
      "metadata": {
        "colab": {
          "base_uri": "https://localhost:8080/"
        },
        "id": "Q5CJrt-iYez5",
        "outputId": "9608a085-4a61-43ab-c4cc-7c5688b06a87"
      },
      "execution_count": 16,
      "outputs": [
        {
          "output_type": "stream",
          "name": "stdout",
          "text": [
            "Data loaded successfully\n",
            "Shape of dataset: (5000, 13)\n"
          ]
        }
      ]
    },
    {
      "cell_type": "code",
      "source": [
        "# Check the format of your dates\n",
        "print(\"Sample of created_at values:\")\n",
        "print(df['created_at'].head())"
      ],
      "metadata": {
        "colab": {
          "base_uri": "https://localhost:8080/"
        },
        "id": "utM5Sv5vZjfT",
        "outputId": "a0bca439-d8fa-4402-e017-9527b4ef4016"
      },
      "execution_count": 17,
      "outputs": [
        {
          "output_type": "stream",
          "name": "stdout",
          "text": [
            "Sample of created_at values:\n",
            "0    Monday 09:30:00\n",
            "1    Monday 09:32:00\n",
            "2    Monday 09:34:00\n",
            "3    Monday 09:36:00\n",
            "4    Monday 09:38:00\n",
            "Name: created_at, dtype: object\n"
          ]
        }
      ]
    },
    {
      "cell_type": "code",
      "source": [
        "# Modified Block 3\n",
        "# Extract hour, minute from the time string\n",
        "df['hour'] = df['created_at'].str.split(':').str[0].str.split(' ').str[1].astype(int)\n",
        "df['minute'] = df['created_at'].str.split(':').str[1].astype(int)\n",
        "\n",
        "# Map weekday names to numbers (0 = Monday, 6 = Sunday)\n",
        "weekday_map = {\n",
        "    'Monday': 0,\n",
        "    'Tuesday': 1,\n",
        "    'Wednesday': 2,\n",
        "    'Thursday': 3,\n",
        "    'Friday': 4,\n",
        "    'Saturday': 5,\n",
        "    'Sunday': 6\n",
        "}\n",
        "df['day_of_week'] = df['created_at'].str.split(' ').str[0].map(weekday_map)\n",
        "\n",
        "# Set a default month (since month information is not in your timestamps)\n",
        "df['month'] = 1  # You can change this if you know the actual month\n",
        "\n",
        "# Verify the conversion\n",
        "print(\"\\nDateTime processing completed\")\n",
        "print(\"\\nSample of processed data:\")\n",
        "print(df[['created_at', 'hour', 'minute', 'day_of_week', 'month']].head())"
      ],
      "metadata": {
        "colab": {
          "base_uri": "https://localhost:8080/"
        },
        "id": "VrTtkuCuYhLO",
        "outputId": "0d8a0b7b-8c62-4223-aabc-b8339d1e83d0"
      },
      "execution_count": 18,
      "outputs": [
        {
          "output_type": "stream",
          "name": "stdout",
          "text": [
            "\n",
            "DateTime processing completed\n",
            "\n",
            "Sample of processed data:\n",
            "        created_at  hour  minute  day_of_week  month\n",
            "0  Monday 09:30:00     9      30            0      1\n",
            "1  Monday 09:32:00     9      32            0      1\n",
            "2  Monday 09:34:00     9      34            0      1\n",
            "3  Monday 09:36:00     9      36            0      1\n",
            "4  Monday 09:38:00     9      38            0      1\n"
          ]
        }
      ]
    },
    {
      "cell_type": "code",
      "source": [
        "# Convert categorical variables to numerical\n",
        "le = LabelEncoder()\n",
        "categorical_columns = ['part_name', 'part_type', 'material', 'defect_type', 'defect_location']\n",
        "for col in categorical_columns:\n",
        "    df[col] = le.fit_transform(df[col].astype(str))\n",
        "print(\"Categorical conversion completed\")"
      ],
      "metadata": {
        "colab": {
          "base_uri": "https://localhost:8080/"
        },
        "id": "T0NDUszFYi_N",
        "outputId": "5b7c38a1-43df-4d35-8670-9065626d1254"
      },
      "execution_count": 19,
      "outputs": [
        {
          "output_type": "stream",
          "name": "stdout",
          "text": [
            "Categorical conversion completed\n"
          ]
        }
      ]
    },
    {
      "cell_type": "code",
      "source": [
        "# Create features and target\n",
        "X = df[['entry_id', 'pir', 'ir', 'color code', 'part_name', 'part_type', 'material',\n",
        "        'product_id', 'defect_type', 'defect_location', 'hour', 'day_of_week', 'month']]\n",
        "y = df['alert']\n",
        "print(\"Features and target created\")\n",
        "print(\"Number of features:\", X.shape[1])\n",
        "\n",
        "# Let's verify our features\n",
        "print(\"\\nSample of features:\")\n",
        "print(X.head())"
      ],
      "metadata": {
        "colab": {
          "base_uri": "https://localhost:8080/"
        },
        "id": "PaVOfZnoYkxB",
        "outputId": "25b06bb1-032b-4c21-f3f1-4183d8378d97"
      },
      "execution_count": 20,
      "outputs": [
        {
          "output_type": "stream",
          "name": "stdout",
          "text": [
            "Features and target created\n",
            "Number of features: 13\n",
            "\n",
            "Sample of features:\n",
            "   entry_id  pir  ir  color code  part_name  part_type  material  product_id  \\\n",
            "0         1    0   1           3          0          1         2       10001   \n",
            "1         2    0   1           2          7          3         2       10002   \n",
            "2         3    0   0           2          2          2         3       10003   \n",
            "3         4    0   1           3          1          2         0       10004   \n",
            "4         5    1   0           0          9          2         4       10005   \n",
            "\n",
            "   defect_type  defect_location  hour  day_of_week  month  \n",
            "0            0                1     9            0      1  \n",
            "1            1                1     9            0      1  \n",
            "2            2                2     9            0      1  \n",
            "3            1                0     9            0      1  \n",
            "4            0                3     9            0      1  \n"
          ]
        }
      ]
    },
    {
      "cell_type": "code",
      "source": [
        "# Split the data into training and testing sets\n",
        "X_train, X_test, y_train, y_test = train_test_split(X, y, test_size=0.2, random_state=42)\n",
        "print(\"Data split completed\")\n",
        "print(\"Training set size:\", X_train.shape)\n",
        "print(\"Testing set size:\", X_test.shape)"
      ],
      "metadata": {
        "colab": {
          "base_uri": "https://localhost:8080/"
        },
        "id": "PxuP4d1mYmSI",
        "outputId": "a26d24d8-17a6-4421-b3e9-7ef9e40132a5"
      },
      "execution_count": 21,
      "outputs": [
        {
          "output_type": "stream",
          "name": "stdout",
          "text": [
            "Data split completed\n",
            "Training set size: (4000, 13)\n",
            "Testing set size: (1000, 13)\n"
          ]
        }
      ]
    },
    {
      "cell_type": "code",
      "source": [
        "# Create and train the Random Forest model\n",
        "rf_model = RandomForestClassifier(n_estimators=100, random_state=42)\n",
        "rf_model.fit(X_train, y_train)\n",
        "print(\"Model training completed\")"
      ],
      "metadata": {
        "colab": {
          "base_uri": "https://localhost:8080/"
        },
        "id": "riLwu4ezYn_C",
        "outputId": "c05fdbc1-aae9-4cb7-9ce9-b3dfe380d83c"
      },
      "execution_count": 22,
      "outputs": [
        {
          "output_type": "stream",
          "name": "stdout",
          "text": [
            "Model training completed\n"
          ]
        }
      ]
    },
    {
      "cell_type": "code",
      "source": [
        "from sklearn.model_selection import train_test_split\n",
        "from sklearn.ensemble import RandomForestClassifier\n",
        "from sklearn.metrics import classification_report, confusion_matrix\n",
        "import seaborn as sns\n",
        "import matplotlib.pyplot as plt\n",
        "\n",
        "# Split the data\n",
        "X_train, X_test, y_train, y_test = train_test_split(X, y, test_size=0.2, random_state=42)\n",
        "\n",
        "# Train the model\n",
        "rf_model = RandomForestClassifier(n_estimators=100, random_state=42)\n",
        "rf_model.fit(X_train, y_train)\n",
        "\n",
        "# Make predictions\n",
        "y_pred = rf_model.predict(X_test)\n",
        "\n",
        "# Print classification report\n",
        "print(\"\\nClassification Report:\")\n",
        "print(classification_report(y_test, y_pred))\n",
        "\n",
        "# Compute and print confusion matrix\n",
        "print(\"\\nConfusion Matrix:\")\n",
        "cm = confusion_matrix(y_test, y_pred)\n",
        "print(cm)\n",
        "\n",
        "# Plot confusion matrix\n",
        "plt.figure(figsize=(6, 4))\n",
        "sns.heatmap(cm, annot=True, fmt='d', cmap='Blues', cbar=False,\n",
        "            xticklabels=['Normal', 'Alert'], yticklabels=['Normal', 'Alert'])\n",
        "\n",
        "plt.title('Confusion Matrix')\n",
        "plt.xlabel('Predicted Label')\n",
        "plt.ylabel('True Label')\n",
        "plt.tight_layout()\n",
        "plt.show()\n"
      ],
      "metadata": {
        "colab": {
          "base_uri": "https://localhost:8080/",
          "height": 681
        },
        "id": "InbHQ9CdYphW",
        "outputId": "efb2e071-3646-49a0-b527-62fdb69efd27"
      },
      "execution_count": 27,
      "outputs": [
        {
          "output_type": "stream",
          "name": "stdout",
          "text": [
            "\n",
            "Classification Report:\n",
            "              precision    recall  f1-score   support\n",
            "\n",
            "           0       0.83      0.82      0.82       213\n",
            "           1       0.95      0.95      0.95       787\n",
            "\n",
            "    accuracy                           0.93      1000\n",
            "   macro avg       0.89      0.89      0.89      1000\n",
            "weighted avg       0.92      0.93      0.92      1000\n",
            "\n",
            "\n",
            "Confusion Matrix:\n",
            "[[175  38]\n",
            " [ 37 750]]\n"
          ]
        },
        {
          "output_type": "display_data",
          "data": {
            "text/plain": [
              "<Figure size 600x400 with 1 Axes>"
            ],
            "image/png": "[encoded data removed]"
          },
          "metadata": {}
        }
      ]
    },
    {
      "cell_type": "code",
      "source": [
        "def predict_next_seven_days(model, current_data, daily_checks=720):  # Set to exactly 720 checks\n",
        "    daily_alerts = []\n",
        "\n",
        "    # For each of the next 7 days\n",
        "    for day in range(7):\n",
        "        # Create sample data for exactly 720 checks\n",
        "        next_day_data = current_data.sample(n=daily_checks, replace=True)\n",
        "        # Update day of week for next day\n",
        "        next_day_data['day_of_week'] = (next_day_data['day_of_week'] + day) % 7\n",
        "\n",
        "        # Make predictions for the sampled rows\n",
        "        predictions = model.predict(next_day_data)\n",
        "        # Count number of alerts (1s) predicted\n",
        "        alert_count = np.sum(predictions)\n",
        "        daily_alerts.append(alert_count)\n",
        "\n",
        "    return daily_alerts\n",
        "\n",
        "# Get predictions for next 7 days\n",
        "future_predictions = predict_next_seven_days(rf_model, X, daily_checks=720)\n",
        "\n",
        "# Print daily alert predictions with detailed statistics\n",
        "print(\"\\nPredicted Alerts for Next 7 Days (Based on 720 daily checks):\")\n",
        "print(\"--------------------------------------------------------\")\n",
        "for day, alert_count in enumerate(future_predictions, 1):\n",
        "    print(f\"Day {day}:\")\n",
        "    print(f\"  • Number of Alerts: {alert_count}\")\n",
        "    print(f\"  • Alert Rate: {(alert_count/720)*100:.2f}%\")\n",
        "    print(f\"  • Normal Operations: {720-alert_count}\")\n",
        "    print()\n",
        "\n",
        "# Create visualization\n",
        "import matplotlib.pyplot as plt\n",
        "\n",
        "# Create figure and axis\n",
        "fig, ax = plt.subplots(figsize=(12, 6))\n",
        "\n",
        "# Create bars\n",
        "bars = ax.bar(range(1, 8), future_predictions, color='lightblue')\n",
        "\n",
        "# Customize the plot\n",
        "plt.title('Predicted Alerts for Next 7 Days\\n(Based on 720 daily checks)')\n",
        "plt.xlabel('Day of the Week')\n",
        "plt.ylabel('Number of Alerts')\n",
        "plt.xticks(range(1, 8))\n",
        "\n",
        "# Add value labels on top of each bar\n",
        "for bar in bars:\n",
        "    height = bar.get_height()\n",
        "    ax.text(bar.get_x() + bar.get_width()/2., height,\n",
        "            f'{int(height)}\\n({height/720*100:.1f}%)',\n",
        "            ha='center', va='bottom')\n",
        "\n",
        "# Add grid\n",
        "plt.grid(True, axis='y', linestyle='--', alpha=0.3)\n",
        "\n",
        "# Adjust layout and display\n",
        "plt.tight_layout()\n",
        "plt.show()\n",
        "\n",
        "# Display summary statistics\n",
        "total_alerts = sum(future_predictions)\n",
        "avg_alerts = total_alerts / 7\n",
        "print(\"\\nSummary Statistics:\")\n",
        "print(f\"Total predicted alerts over 7 days: {total_alerts}\")\n",
        "print(f\"Average daily alerts: {avg_alerts:.1f}\")\n",
        "print(f\"Average daily alert rate: {(avg_alerts/720)*100:.2f}%\")"
      ],
      "metadata": {
        "colab": {
          "base_uri": "https://localhost:8080/",
          "height": 1000
        },
        "id": "oem_4DeDYrx4",
        "outputId": "d9bd3b50-59cc-4e0b-ced3-1b7d90267643"
      },
      "execution_count": 28,
      "outputs": [
        {
          "output_type": "stream",
          "name": "stdout",
          "text": [
            "\n",
            "Predicted Alerts for Next 7 Days (Based on 720 daily checks):\n",
            "--------------------------------------------------------\n",
            "Day 1:\n",
            "  • Number of Alerts: 570\n",
            "  • Alert Rate: 79.17%\n",
            "  • Normal Operations: 150\n",
            "\n",
            "Day 2:\n",
            "  • Number of Alerts: 579\n",
            "  • Alert Rate: 80.42%\n",
            "  • Normal Operations: 141\n",
            "\n",
            "Day 3:\n",
            "  • Number of Alerts: 553\n",
            "  • Alert Rate: 76.81%\n",
            "  • Normal Operations: 167\n",
            "\n",
            "Day 4:\n",
            "  • Number of Alerts: 568\n",
            "  • Alert Rate: 78.89%\n",
            "  • Normal Operations: 152\n",
            "\n",
            "Day 5:\n",
            "  • Number of Alerts: 554\n",
            "  • Alert Rate: 76.94%\n",
            "  • Normal Operations: 166\n",
            "\n",
            "Day 6:\n",
            "  • Number of Alerts: 574\n",
            "  • Alert Rate: 79.72%\n",
            "  • Normal Operations: 146\n",
            "\n",
            "Day 7:\n",
            "  • Number of Alerts: 572\n",
            "  • Alert Rate: 79.44%\n",
            "  • Normal Operations: 148\n",
            "\n"
          ]
        },
        {
          "output_type": "display_data",
          "data": {
            "text/plain": [
              "<Figure size 1200x600 with 1 Axes>"
            ],
            "image/png": "[encoded data removed]"
          },
          "metadata": {}
        },
        {
          "output_type": "stream",
          "name": "stdout",
          "text": [
            "\n",
            "Summary Statistics:\n",
            "Total predicted alerts over 7 days: 3970\n",
            "Average daily alerts: 567.1\n",
            "Average daily alert rate: 78.77%\n"
          ]
        }
      ]
    },
    {
      "cell_type": "code",
      "source": [
        "# Save the model\n",
        "import pickle\n",
        "with open('alert_prediction_model2.pkl', 'wb') as file:\n",
        "    pickle.dump(rf_model, file)\n",
        "print(\"\\nModel saved as 'alert_prediction_model2.pkl'\")"
      ],
      "metadata": {
        "colab": {
          "base_uri": "https://localhost:8080/"
        },
        "id": "NRSRQO8rYujF",
        "outputId": "c385fb1d-5d02-498a-e550-887eb540ccbf"
      },
      "execution_count": 29,
      "outputs": [
        {
          "output_type": "stream",
          "name": "stdout",
          "text": [
            "\n",
            "Model saved as 'alert_prediction_model2.pkl'\n"
          ]
        }
      ]
    },
    {
      "cell_type": "code",
      "source": [
        "# Display feature importance\n",
        "feature_importance = pd.DataFrame({\n",
        "    'feature': X.columns,\n",
        "    'importance': rf_model.feature_importances_\n",
        "})\n",
        "print(\"\\nFeature Importance:\")\n",
        "print(feature_importance.sort_values('importance', ascending=False))"
      ],
      "metadata": {
        "colab": {
          "base_uri": "https://localhost:8080/"
        },
        "id": "xQEEsitRYvs6",
        "outputId": "fe35f91b-b9d3-4e99-8549-d6b027cc24cd"
      },
      "execution_count": 30,
      "outputs": [
        {
          "output_type": "stream",
          "name": "stdout",
          "text": [
            "\n",
            "Feature Importance:\n",
            "            feature  importance\n",
            "1               pir    0.324343\n",
            "9   defect_location    0.114049\n",
            "8       defect_type    0.092001\n",
            "7        product_id    0.090803\n",
            "0          entry_id    0.090192\n",
            "2                ir    0.081244\n",
            "10             hour    0.054365\n",
            "3        color code    0.039216\n",
            "4         part_name    0.034151\n",
            "5         part_type    0.030273\n",
            "6          material    0.028020\n",
            "11      day_of_week    0.021344\n",
            "12            month    0.000000\n"
          ]
        }
      ]
    },
    {
      "cell_type": "code",
      "source": [],
      "metadata": {
        "id": "TyFeewQvI4Tu"
      },
      "execution_count": null,
      "outputs": []
    }
  ]
}